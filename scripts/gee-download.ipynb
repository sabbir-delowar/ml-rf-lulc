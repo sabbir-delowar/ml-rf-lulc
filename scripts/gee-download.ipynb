{
 "cells": [
  {
   "cell_type": "code",
   "execution_count": null,
   "id": "47b87892-502a-437b-b186-96727d124b41",
   "metadata": {},
   "outputs": [],
   "source": [
    "import ee\n",
    "import geopandas as gpd\n",
    "\n",
    "def shp_to_ee_geometry(shapefile_path):\n",
    "    gdf = gpd.read_file(shapefile_path)\n",
    "    return ee.Geometry.Polygon(gdf.geometry[0].__geo_interface__['coordinates'])\n",
    "\n",
    "def export_composite(aoi_ee, start_date, end_date, out_name):\n",
    "    s2 = (ee.ImageCollection('COPERNICUS/S2_SR')\n",
    "        .filterDate(start_date, end_date)\n",
    "        .filterBounds(aoi_ee)\n",
    "        .filter(ee.Filter.lt('CLOUDY_PIXEL_PERCENTAGE', 20))\n",
    "        .map(lambda img: img.divide(10000)))  # Scale reflectance\n",
    "\n",
    "    composite = s2.median().select(['B2', 'B3', 'B4', 'B8', 'B11', 'B12'])\n",
    "\n",
    "    ndvi = composite.normalizedDifference(['B8', 'B4']).rename('NDVI')\n",
    "    ndbi = composite.normalizedDifference(['B11', 'B8']).rename('NDBI')\n",
    "    ndwi = composite.normalizedDifference(['B3', 'B8']).rename('NDWI')\n",
    "\n",
    "    stack = composite.addBands([ndvi, ndbi, ndwi])\n",
    "\n",
    "    task = ee.batch.Export.image.toDrive(**{\n",
    "        'image': stack,\n",
    "        'description': out_name,\n",
    "        'folder': 'ml-rf-lulc',\n",
    "        'region': aoi_ee,\n",
    "        'scale': 10,\n",
    "        'fileFormat': 'GeoTIFF'\n",
    "    })\n",
    "    task.start()\n",
    "\n",
    "# Example usage\n",
    "ee.Initialize()\n",
    "aoi = shp_to_ee_geometry('study-area/barishal.shp')\n",
    "export_composite(aoi, '2022-01-01', '2022-03-31', 'barishal_composite_2022')\n"
   ]
  }
 ],
 "metadata": {
  "kernelspec": {
   "display_name": "Python 3 (ipykernel)",
   "language": "python",
   "name": "python3"
  },
  "language_info": {
   "codemirror_mode": {
    "name": "ipython",
    "version": 3
   },
   "file_extension": ".py",
   "mimetype": "text/x-python",
   "name": "python",
   "nbconvert_exporter": "python",
   "pygments_lexer": "ipython3",
   "version": "3.11.5"
  }
 },
 "nbformat": 4,
 "nbformat_minor": 5
}
