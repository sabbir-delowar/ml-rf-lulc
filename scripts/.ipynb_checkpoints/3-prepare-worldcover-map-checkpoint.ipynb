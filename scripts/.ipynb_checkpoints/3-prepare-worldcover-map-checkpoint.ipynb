{
 "cells": [
  {
   "cell_type": "code",
   "execution_count": null,
   "id": "dcac8afa-cca7-4b7e-afd9-99ec77e77ed4",
   "metadata": {},
   "outputs": [],
   "source": [
    "import rasterio\n",
    "from rasterio.warp import calculate_default_transform, reproject, Resampling\n",
    "import numpy as np\n",
    "import os\n",
    "\n",
    "# Paths\n",
    "composite_path = '../data/raw/barishal_composite_2022.tif'\n",
    "worldcover_path = '../data/labels/ESA_WorldCover_10m_2021_V200_N21E090_Map.tif'\n",
    "aligned_wc_path = '../data/labels/worldcover_aligned.tif'\n",
    "\n",
    "# Open composite to get CRS and transform\n",
    "with rasterio.open(composite_path) as src:\n",
    "    comp_crs = src.crs\n",
    "    comp_transform = src.transform\n",
    "    comp_width = src.width\n",
    "    comp_height = src.height\n",
    "\n",
    "# Reproject WorldCover to match composite\n",
    "with rasterio.open(worldcover_path) as src:\n",
    "    wc_data = src.read(1)\n",
    "    wc_crs = src.crs\n",
    "\n",
    "    transform, width, height = calculate_default_transform(\n",
    "        wc_crs, comp_crs, src.width, src.height, *src.bounds)\n",
    "\n",
    "    kwargs = src.meta.copy()\n",
    "    kwargs.update({\n",
    "        'crs': comp_crs,\n",
    "        'transform': comp_transform,\n",
    "        'width': comp_width,\n",
    "        'height': comp_height,\n",
    "        'driver': 'GTiff',\n",
    "        'compress': 'lzw'\n",
    "    })\n",
    "\n",
    "    with rasterio.open(aligned_wc_path, 'w', **kwargs) as dst:\n",
    "        reproject(\n",
    "            source=wc_data,\n",
    "            destination=rasterio.band(dst, 1),\n",
    "            src_transform=src.transform,\n",
    "            src_crs=wc_crs,\n",
    "            dst_transform=comp_transform,\n",
    "            dst_crs=comp_crs,\n",
    "            resampling=Resampling.nearest)\n",
    "\n",
    "print(\"WorldCover reprojected and aligned to composite.\")\n"
   ]
  }
 ],
 "metadata": {
  "kernelspec": {
   "display_name": "Python 3 (ipykernel)",
   "language": "python",
   "name": "python3"
  },
  "language_info": {
   "codemirror_mode": {
    "name": "ipython",
    "version": 3
   },
   "file_extension": ".py",
   "mimetype": "text/x-python",
   "name": "python",
   "nbconvert_exporter": "python",
   "pygments_lexer": "ipython3",
   "version": "3.11.5"
  }
 },
 "nbformat": 4,
 "nbformat_minor": 5
}
