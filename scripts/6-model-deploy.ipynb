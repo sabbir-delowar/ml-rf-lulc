{
 "cells": [
  {
   "cell_type": "code",
   "execution_count": null,
   "id": "5f52a699-ca07-4e77-9a19-cfa2bba25ff1",
   "metadata": {
    "tags": []
   },
   "outputs": [],
   "source": [
    "import numpy as np\n",
    "import rasterio\n",
    "import joblib\n",
    "import os\n",
    "import matplotlib.pyplot as plt\n",
    "\n",
    "# Load trained model\n",
    "model = joblib.load('../models/random_forest_lulc.pkl')\n",
    "\n",
    "# Load composite image\n",
    "with rasterio.open('../data/raw/barishal_composite_2022.tif') as src:\n",
    "    composite = src.read().astype(np.float32)  # shape: (bands, height, width)\n",
    "    profile = src.profile\n",
    "\n",
    "# Prepare data for prediction\n",
    "bands, height, width = composite.shape\n",
    "\n",
    "# Reshape composite to (num_pixels, num_features)\n",
    "X_full = composite.reshape(bands, height * width).T  # shape: (pixels, bands)\n",
    "\n",
    "# Predict land cover classes for all pixels\n",
    "y_pred = model.predict(X_full)  # shape: (pixels,)\n",
    "\n",
    "# Reshape prediction back to raster dimensions\n",
    "classification_map = y_pred.reshape(height, width).astype(np.uint8)\n",
    "\n",
    "# Save the classification map as GeoTIFF\n",
    "output_path = '../results/barishal_lulc_map.tif'\n",
    "\n",
    "# Update metadata for single band uint8 output\n",
    "profile.update(dtype=rasterio.uint8, count=1, compress='lzw')\n",
    "\n",
    "with rasterio.open(output_path, 'w', **profile) as dst:\n",
    "    dst.write(classification_map, 1)\n",
    "\n",
    "print(f\"Classification map saved to {output_path}\")\n",
    "\n",
    "# Visualise\n",
    "plt.figure(figsize=(10, 8))\n",
    "plt.title('Predicted Land Cover Map')\n",
    "plt.imshow(classification_map, cmap='tab10')\n",
    "plt.colorbar(ticks=range(5), label='Class')\n",
    "plt.show()"
   ]
  }
 ],
 "metadata": {
  "kernelspec": {
   "display_name": "Python 3 (ipykernel)",
   "language": "python",
   "name": "python3"
  },
  "language_info": {
   "codemirror_mode": {
    "name": "ipython",
    "version": 3
   },
   "file_extension": ".py",
   "mimetype": "text/x-python",
   "name": "python",
   "nbconvert_exporter": "python",
   "pygments_lexer": "ipython3",
   "version": "3.11.5"
  }
 },
 "nbformat": 4,
 "nbformat_minor": 5
}
