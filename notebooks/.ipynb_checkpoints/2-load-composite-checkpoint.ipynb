{
 "cells": [
  {
   "cell_type": "code",
   "execution_count": null,
   "id": "e9994583-a604-41cb-83d2-e8763561fd52",
   "metadata": {
    "tags": []
   },
   "outputs": [],
   "source": [
    "import rasterio\n",
    "import numpy as np\n",
    "import os\n",
    "\n",
    "# Path to your composite file\n",
    "composite_path = '../data/raw/barishal_composite_2022.tif'\n",
    "\n",
    "# Open raster\n",
    "with rasterio.open(composite_path) as src:\n",
    "    img = src.read()  # shape: (bands, height, width)\n",
    "    profile = src.profile\n",
    "    print(f\"Image shape: {img.shape}\")\n",
    "    print(f\"Bands: {profile['count']}, CRS: {profile['crs']}, Resolution: {profile['transform'][0]} m\")\n",
    "\n",
    "# Example: Check NDVI (assuming it's the 7th band)\n",
    "ndvi = img[6, :, :]  # if 7th band is NDVI\n",
    "print(\"NDVI range:\", np.nanmin(ndvi), \"to\", np.nanmax(ndvi))\n"
   ]
  }
 ],
 "metadata": {
  "kernelspec": {
   "display_name": "Python 3 (ipykernel)",
   "language": "python",
   "name": "python3"
  },
  "language_info": {
   "codemirror_mode": {
    "name": "ipython",
    "version": 3
   },
   "file_extension": ".py",
   "mimetype": "text/x-python",
   "name": "python",
   "nbconvert_exporter": "python",
   "pygments_lexer": "ipython3",
   "version": "3.11.5"
  }
 },
 "nbformat": 4,
 "nbformat_minor": 5
}
