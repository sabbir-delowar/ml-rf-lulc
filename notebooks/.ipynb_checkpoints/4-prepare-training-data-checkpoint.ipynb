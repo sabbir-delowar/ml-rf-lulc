{
 "cells": [
  {
   "cell_type": "code",
   "execution_count": null,
   "id": "6577934b-5f02-4e1d-9ea3-354fb8e1ed3e",
   "metadata": {
    "tags": []
   },
   "outputs": [],
   "source": [
    "import rasterio\n",
    "import numpy as np\n",
    "\n",
    "# Define class mapping\n",
    "simplified_mapping = {\n",
    "    10: 'Vegetation',\n",
    "    20: 'Vegetation',\n",
    "    30: 'Vegetation',\n",
    "    40: 'Cropland',\n",
    "    50: 'Built-up',\n",
    "    80: 'Water',\n",
    "    90: 'Wetland'\n",
    "}\n",
    "\n",
    "# Assign numeric IDs to simplified classes\n",
    "label_map = {name: idx for idx, name in enumerate(sorted(set(simplified_mapping.values())))}\n",
    "print(\"Label Map:\", label_map)\n",
    "\n",
    "# Reverse mapping for raster values\n",
    "reverse_map = {k: label_map[v] for k, v in simplified_mapping.items()}\n",
    "\n",
    "# Load the aligned WorldCover raster\n",
    "with rasterio.open('../data/labels/worldcover_aligned.tif') as src:\n",
    "    wc_raw = src.read(1).astype(np.int16)\n",
    "    wc_raw[wc_raw == 255] = -1  # remove nodata before mapping\n",
    "    profile = src.profile\n",
    "\n",
    "# Initialize a label array with -1 (to mask out unwanted classes)\n",
    "label_array = np.full_like(wc_raw, fill_value=-1)\n",
    "\n",
    "# Remap original IDs to numeric classes\n",
    "for original_id, new_id in reverse_map.items():\n",
    "    label_array[wc_raw == original_id] = new_id\n",
    "\n",
    "# Optionally: check class distribution\n",
    "unique, counts = np.unique(label_array[label_array >= 0], return_counts=True)\n",
    "print(\"Class counts:\", dict(zip(unique, counts)))\n"
   ]
  },
  {
   "cell_type": "code",
   "execution_count": null,
   "id": "e4b1646e-4da1-4651-8867-5f4079b5a7b5",
   "metadata": {
    "tags": []
   },
   "outputs": [],
   "source": [
    "import random\n",
    "import pandas as pd\n",
    "\n",
    "# Make sure composite is loaded: shape = (bands, height, width)\n",
    "with rasterio.open('../data/raw/barishal_composite_2022.tif') as src:\n",
    "    composite_array = src.read().astype(np.float32)  # shape: (bands, H, W)\n",
    "\n",
    "# Parameters\n",
    "samples_per_class = 5000\n",
    "n_bands = composite_array.shape[0]\n",
    "features = []\n",
    "labels = []\n",
    "\n",
    "# Loop over class labels 0 to 4\n",
    "for cls in range(5):\n",
    "    y_indices, x_indices = np.where(label_array == cls)\n",
    "    \n",
    "    coords = list(zip(y_indices, x_indices))\n",
    "    \n",
    "    # Shuffle and sample\n",
    "    if len(coords) >= samples_per_class:\n",
    "        sampled_coords = random.sample(coords, samples_per_class)\n",
    "    else:\n",
    "        print(f\"⚠️ Warning: only {len(coords)} pixels for class {cls}. Sampling all.\")\n",
    "        sampled_coords = coords\n",
    "\n",
    "    for y, x in sampled_coords:\n",
    "        pixel_features = composite_array[:, y, x]  # extract band values\n",
    "        if np.any(np.isnan(pixel_features)):\n",
    "            continue  # skip if pixel has NaN\n",
    "        features.append(pixel_features)\n",
    "        labels.append(cls)\n",
    "\n",
    "# Convert to arrays\n",
    "X = np.array(features)\n",
    "y = np.array(labels)\n",
    "\n",
    "print(\"✅ Training samples shape:\", X.shape)\n",
    "print(\"✅ Labels shape:\", y.shape)\n",
    "\n",
    "np.save('../data/interim/X.npy', X)\n",
    "np.save('../data/interim/y.npy', y)"
   ]
  }
 ],
 "metadata": {
  "kernelspec": {
   "display_name": "Python 3 (ipykernel)",
   "language": "python",
   "name": "python3"
  },
  "language_info": {
   "codemirror_mode": {
    "name": "ipython",
    "version": 3
   },
   "file_extension": ".py",
   "mimetype": "text/x-python",
   "name": "python",
   "nbconvert_exporter": "python",
   "pygments_lexer": "ipython3",
   "version": "3.11.5"
  }
 },
 "nbformat": 4,
 "nbformat_minor": 5
}
